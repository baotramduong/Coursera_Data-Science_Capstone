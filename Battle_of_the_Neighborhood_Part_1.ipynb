{
  "nbformat": 4,
  "nbformat_minor": 0,
  "metadata": {
    "colab": {
      "name": "Battle of the Neighborhood - Part 1.ipynb",
      "provenance": []
    },
    "kernelspec": {
      "name": "python3",
      "display_name": "Python 3"
    }
  },
  "cells": [
    {
      "cell_type": "markdown",
      "metadata": {
        "id": "vK9GkognWjTj"
      },
      "source": [
        "# **THE BATTLE OF THE NEIGHBORHOODS**\n",
        "\n",
        "## Comparing New York and Toronto using Data Science"
      ]
    },
    {
      "cell_type": "markdown",
      "metadata": {
        "id": "9XoVkKo3WjW3"
      },
      "source": [
        "This project is a part of IBM Data Science Professional Certicate which aims to teach students on how to define a business problem, acquire the data, and analyze that data using various visualization, statistical tools, and machine learning tools to solve problem.\n",
        "\n",
        "In this project, I leverage the Foursquare location data to explore or compare neighborhoods or cities of my choice or to come up with a problem that I can use the Foursquare location data to solve."
      ]
    },
    {
      "cell_type": "markdown",
      "metadata": {
        "id": "RPo0cwrkWjbG"
      },
      "source": [
        "# **1. Identify the Business Problem**\n",
        "**Background:**\n",
        "\n",
        "Toronto is the capital city of the Canadian province of Ontario. With a recorded population of 2,731,571 in 2016, it is the most populous city in Canada and the fourth most populous city in North America.\n",
        "\n",
        "Toronto is all about the latest and greatest in culture, design, dining, and entertainment. But everyone needs a break from big city bustle, and that’s where green spaces come in. A diverse eastern city known for its distinctive neighborhoods, Toronto has more than 1,500 parks to explore.\n",
        "\n",
        "**Problem:**\n",
        "\n",
        "If I am to move to Toronto, which neighborhood with the best park and avenues would be the most suitable for me?\n",
        "\n",
        "I am, and many other, are nature lovers and pet owners, would love to find a neighborhood with great amenities and other types of venues that suit my active, on-the-go lifestyle with my 2 dogs. I'd love to find a location where the richness of nature are preserved while also includes venues such as:\n",
        "\n",
        "*   Parks, as #1 priority\n",
        "\n",
        "*   Coffe shop or cafe\n",
        "\n",
        "*   Restaurants of various cuisines\n",
        "\n",
        "*   Nearby vet and pet services\n",
        "\n",
        "*   Gym\n",
        "\n",
        "**Problem statement:**\n",
        "\n",
        "What is/are the best neighborhood to live in Toronto for me as a nature lover/ pet-parent with an active lifestyle?\n",
        "\n",
        "**Target audience:**\n",
        "\n",
        "This information provided by this report would be useful for people, especially nature-lovers, pet-owners, with active, on-the-go lifestyle who are interested in comparing different neighborhood of the city of Toronto and are interested in finding the best neighborhood to live in."
      ]
    },
    {
      "cell_type": "markdown",
      "metadata": {
        "id": "O6UM8qr0Wjd5"
      },
      "source": [
        "# **2. Data Overview**\n",
        "\n",
        "## Source 1: \n",
        "\n",
        "For the Toronto neighborhood data, a Wikipedia page exists that has all the information which we need to explore and cluster the neighborhoods in Toronto. We will scrape the Wikipedia page and wrangle the data, clean it, and then read it into a pandas dataframe.\n",
        "\n",
        "After cleansing the data, the next step was to analyze it. We then created a map using Folium and colour-coded each Neighborhood depending on what Borough it was located in.\n",
        "\n",
        "This will give me:\n",
        "\n",
        "*   Postal code\n",
        "*   Borough\n",
        "*   Neighborhood\n",
        "\n",
        "## Source 2: \n",
        "\n",
        "Geographical location data using geocoder package\n",
        "\n",
        "Using the Latitude and Longitude collected from the Geocoder package, we merged the two tables together based on Postal Code to get the local venue within a 500-meter radius\n",
        "\n",
        "This will give me:\n",
        "\n",
        "*   Postal code\n",
        "*   Latitude\n",
        "*   Longitude\n",
        "\n",
        "## Source 3: \n",
        "\n",
        "Venue data using Foursquare\n",
        "\n",
        "Next, we used the Foursquare API to get a list of all the venues in Toronto which included gyms, parks, schools, café shops, restaurants etc. We then merged the Foursquare Venue data with the Neighborhood data which then gave us the nearest venue for each of the neighborhoods.\n",
        "\n",
        "This will give me:\n",
        "\n",
        "*   Venue id\n",
        "*   Venue distance\n",
        "*   Venue name\n",
        "*   Venue category\n",
        "*   Venue latitude\n",
        "*   Venue longitude\n",
        "\n",
        "And to compare the different parks, I will be using:\n",
        "\n",
        "*   Likes\n",
        "*   Rating\n",
        "*   Tips"
      ]
    }
  ]
}